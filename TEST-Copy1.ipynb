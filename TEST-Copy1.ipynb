{
 "cells": [
  {
   "cell_type": "code",
   "execution_count": 1,
   "id": "4f413c3e",
   "metadata": {},
   "outputs": [],
   "source": [
    "import pandas as pd\n",
    "import numpy as np\n",
    "import joblib\n",
    "import matplotlib.pyplot as plt\n",
    "import seaborn as sns\n",
    "import pickle\n",
    "import lightgbm as lgb\n",
    "from sklearn.ensemble import RandomForestRegressor\n",
    "from sklearn.preprocessing import LabelEncoder\n",
    "from lightgbm import LGBMRegressor \n",
    "from sklearn.metrics import mean_absolute_error, mean_squared_error, r2_score\n",
    "from sklearn.model_selection import train_test_split\n",
    "from scipy import stats\n",
    "from sklearn.linear_model import LinearRegression\n",
    "from sklearn.preprocessing import MinMaxScaler\n",
    "from sklearn.model_selection import GridSearchCV\n",
    "\n",
    "df = pd.read_csv(\"Housing.csv\",encoding='cp1252')"
   ]
  },
  {
   "cell_type": "markdown",
   "id": "3041ed22",
   "metadata": {},
   "source": [
    "# Data Cleaning"
   ]
  },
  {
   "cell_type": "markdown",
   "id": "2402f03e",
   "metadata": {},
   "source": [
    "## 1. Removal of Duplicates"
   ]
  },
  {
   "cell_type": "code",
   "execution_count": 2,
   "id": "cbaed727",
   "metadata": {
    "scrolled": true
   },
   "outputs": [],
   "source": [
    "df = df.drop_duplicates()"
   ]
  },
  {
   "cell_type": "markdown",
   "id": "0724b447",
   "metadata": {},
   "source": [
    "## 2. Outlier Detection & Removal"
   ]
  },
  {
   "cell_type": "code",
   "execution_count": 3,
   "id": "d6059390",
   "metadata": {},
   "outputs": [
    {
     "data": {
      "image/png": "[encoded data removed]",
      "text/plain": [
       "<Figure size 864x576 with 6 Axes>"
      ]
     },
     "metadata": {
      "needs_background": "light"
     },
     "output_type": "display_data"
    }
   ],
   "source": [
    "numerical_attributes = ['BHK_NO.', 'SQUARE_FT', 'LONGITUDE', 'LATITUDE', 'TARGET(PRICE_IN_LACS)']\n",
    "# Calculate the number of rows and columns required for the grid\n",
    "num_attributes = len(numerical_attributes)\n",
    "num_rows = num_attributes // 2 + num_attributes % 2\n",
    "num_cols = 2 if num_attributes >= 2 else 1\n",
    "\n",
    "# Create subplots to put the box plots in the grid\n",
    "fig, axes = plt.subplots(nrows=num_rows, ncols=num_cols, figsize=(12, 8))\n",
    "\n",
    "# Flatten the axes array for easy iteration\n",
    "axes = axes.flatten()\n",
    "\n",
    "# Create a box plot for each numerical attribute\n",
    "for i, attr in enumerate(numerical_attributes):\n",
    "    axes[i].boxplot(df[attr], vert=False)\n",
    "    axes[i].set_title(f'Box Plot - {attr}', fontsize=12)\n",
    "    axes[i].set_xlabel(attr, fontsize=10)\n",
    "    axes[i].set_ylabel('Values', fontsize=10)\n",
    "    axes[i].grid(True)\n",
    "\n",
    "# Hide any unused subplots\n",
    "for j in range(num_attributes, num_rows * num_cols):\n",
    "    axes[j].axis('off')\n",
    "\n",
    "plt.tight_layout()\n",
    "plt.show()"
   ]
  },
  {
   "cell_type": "code",
   "execution_count": 4,
   "id": "e1831bbf",
   "metadata": {
    "scrolled": false
   },
   "outputs": [
    {
     "name": "stdout",
     "output_type": "stream",
     "text": [
      "BHK_NO.                   283\n",
      "SQUARE_FT                1612\n",
      "LONGITUDE                 144\n",
      "LATITUDE                 2934\n",
      "TARGET(PRICE_IN_LACS)    3045\n",
      "dtype: int64\n"
     ]
    },
    {
     "data": {
      "text/html": [
       "<div>\n",
       "<style scoped>\n",
       "    .dataframe tbody tr th:only-of-type {\n",
       "        vertical-align: middle;\n",
       "    }\n",
       "\n",
       "    .dataframe tbody tr th {\n",
       "        vertical-align: top;\n",
       "    }\n",
       "\n",
       "    .dataframe thead th {\n",
       "        text-align: right;\n",
       "    }\n",
       "</style>\n",
       "<table border=\"1\" class=\"dataframe\">\n",
       "  <thead>\n",
       "    <tr style=\"text-align: right;\">\n",
       "      <th></th>\n",
       "      <th>POSTED_BY</th>\n",
       "      <th>UNDER_CONSTRUCTION</th>\n",
       "      <th>RERA</th>\n",
       "      <th>BHK_NO.</th>\n",
       "      <th>BHK_OR_RK</th>\n",
       "      <th>SQUARE_FT</th>\n",
       "      <th>READY_TO_MOVE</th>\n",
       "      <th>RESALE</th>\n",
       "      <th>ADDRESS</th>\n",
       "      <th>LONGITUDE</th>\n",
       "      <th>LATITUDE</th>\n",
       "      <th>TARGET(PRICE_IN_LACS)</th>\n",
       "    </tr>\n",
       "  </thead>\n",
       "  <tbody>\n",
       "    <tr>\n",
       "      <th>0</th>\n",
       "      <td>Owner</td>\n",
       "      <td>0</td>\n",
       "      <td>0</td>\n",
       "      <td>2</td>\n",
       "      <td>BHK</td>\n",
       "      <td>1300.236407</td>\n",
       "      <td>1</td>\n",
       "      <td>1</td>\n",
       "      <td>Ksfc Layout,Bangalore</td>\n",
       "      <td>12.969910</td>\n",
       "      <td>77.597960</td>\n",
       "      <td>55.0</td>\n",
       "    </tr>\n",
       "    <tr>\n",
       "      <th>1</th>\n",
       "      <td>Dealer</td>\n",
       "      <td>0</td>\n",
       "      <td>0</td>\n",
       "      <td>2</td>\n",
       "      <td>BHK</td>\n",
       "      <td>1275.000000</td>\n",
       "      <td>1</td>\n",
       "      <td>1</td>\n",
       "      <td>Vishweshwara Nagar,Mysore</td>\n",
       "      <td>12.274538</td>\n",
       "      <td>76.644605</td>\n",
       "      <td>51.0</td>\n",
       "    </tr>\n",
       "    <tr>\n",
       "      <th>2</th>\n",
       "      <td>Owner</td>\n",
       "      <td>0</td>\n",
       "      <td>0</td>\n",
       "      <td>2</td>\n",
       "      <td>BHK</td>\n",
       "      <td>933.159722</td>\n",
       "      <td>1</td>\n",
       "      <td>1</td>\n",
       "      <td>Jigani,Bangalore</td>\n",
       "      <td>12.778033</td>\n",
       "      <td>77.632191</td>\n",
       "      <td>43.0</td>\n",
       "    </tr>\n",
       "    <tr>\n",
       "      <th>3</th>\n",
       "      <td>Owner</td>\n",
       "      <td>0</td>\n",
       "      <td>1</td>\n",
       "      <td>2</td>\n",
       "      <td>BHK</td>\n",
       "      <td>929.921143</td>\n",
       "      <td>1</td>\n",
       "      <td>1</td>\n",
       "      <td>Sector-1 Vaishali,Ghaziabad</td>\n",
       "      <td>28.642300</td>\n",
       "      <td>77.344500</td>\n",
       "      <td>62.5</td>\n",
       "    </tr>\n",
       "    <tr>\n",
       "      <th>5</th>\n",
       "      <td>Owner</td>\n",
       "      <td>0</td>\n",
       "      <td>0</td>\n",
       "      <td>3</td>\n",
       "      <td>BHK</td>\n",
       "      <td>1250.000000</td>\n",
       "      <td>1</td>\n",
       "      <td>1</td>\n",
       "      <td>South Chittoor,Kochi</td>\n",
       "      <td>10.033280</td>\n",
       "      <td>76.282571</td>\n",
       "      <td>42.0</td>\n",
       "    </tr>\n",
       "    <tr>\n",
       "      <th>...</th>\n",
       "      <td>...</td>\n",
       "      <td>...</td>\n",
       "      <td>...</td>\n",
       "      <td>...</td>\n",
       "      <td>...</td>\n",
       "      <td>...</td>\n",
       "      <td>...</td>\n",
       "      <td>...</td>\n",
       "      <td>...</td>\n",
       "      <td>...</td>\n",
       "      <td>...</td>\n",
       "      <td>...</td>\n",
       "    </tr>\n",
       "    <tr>\n",
       "      <th>29445</th>\n",
       "      <td>Owner</td>\n",
       "      <td>0</td>\n",
       "      <td>0</td>\n",
       "      <td>2</td>\n",
       "      <td>BHK</td>\n",
       "      <td>1062.134891</td>\n",
       "      <td>1</td>\n",
       "      <td>1</td>\n",
       "      <td>Tilakwadi,Belgaum</td>\n",
       "      <td>15.866670</td>\n",
       "      <td>74.500000</td>\n",
       "      <td>40.0</td>\n",
       "    </tr>\n",
       "    <tr>\n",
       "      <th>29446</th>\n",
       "      <td>Owner</td>\n",
       "      <td>0</td>\n",
       "      <td>0</td>\n",
       "      <td>3</td>\n",
       "      <td>BHK</td>\n",
       "      <td>2500.000000</td>\n",
       "      <td>1</td>\n",
       "      <td>1</td>\n",
       "      <td>Shamshabad Road,Agra</td>\n",
       "      <td>27.140626</td>\n",
       "      <td>78.043277</td>\n",
       "      <td>45.0</td>\n",
       "    </tr>\n",
       "    <tr>\n",
       "      <th>29448</th>\n",
       "      <td>Dealer</td>\n",
       "      <td>0</td>\n",
       "      <td>0</td>\n",
       "      <td>2</td>\n",
       "      <td>BHK</td>\n",
       "      <td>1022.641509</td>\n",
       "      <td>1</td>\n",
       "      <td>1</td>\n",
       "      <td>Ajmer Road,Jaipur</td>\n",
       "      <td>26.928785</td>\n",
       "      <td>75.828002</td>\n",
       "      <td>27.1</td>\n",
       "    </tr>\n",
       "    <tr>\n",
       "      <th>29449</th>\n",
       "      <td>Owner</td>\n",
       "      <td>0</td>\n",
       "      <td>0</td>\n",
       "      <td>2</td>\n",
       "      <td>BHK</td>\n",
       "      <td>927.079009</td>\n",
       "      <td>1</td>\n",
       "      <td>1</td>\n",
       "      <td>Sholinganallur,Chennai</td>\n",
       "      <td>12.900150</td>\n",
       "      <td>80.227910</td>\n",
       "      <td>67.0</td>\n",
       "    </tr>\n",
       "    <tr>\n",
       "      <th>29450</th>\n",
       "      <td>Dealer</td>\n",
       "      <td>0</td>\n",
       "      <td>1</td>\n",
       "      <td>2</td>\n",
       "      <td>BHK</td>\n",
       "      <td>896.774194</td>\n",
       "      <td>1</td>\n",
       "      <td>1</td>\n",
       "      <td>Jagatpura,Jaipur</td>\n",
       "      <td>26.832353</td>\n",
       "      <td>75.841749</td>\n",
       "      <td>27.8</td>\n",
       "    </tr>\n",
       "  </tbody>\n",
       "</table>\n",
       "<p>22726 rows × 12 columns</p>\n",
       "</div>"
      ],
      "text/plain": [
       "      POSTED_BY  UNDER_CONSTRUCTION  RERA  BHK_NO. BHK_OR_RK    SQUARE_FT  \\\n",
       "0         Owner                   0     0        2       BHK  1300.236407   \n",
       "1        Dealer                   0     0        2       BHK  1275.000000   \n",
       "2         Owner                   0     0        2       BHK   933.159722   \n",
       "3         Owner                   0     1        2       BHK   929.921143   \n",
       "5         Owner                   0     0        3       BHK  1250.000000   \n",
       "...         ...                 ...   ...      ...       ...          ...   \n",
       "29445     Owner                   0     0        2       BHK  1062.134891   \n",
       "29446     Owner                   0     0        3       BHK  2500.000000   \n",
       "29448    Dealer                   0     0        2       BHK  1022.641509   \n",
       "29449     Owner                   0     0        2       BHK   927.079009   \n",
       "29450    Dealer                   0     1        2       BHK   896.774194   \n",
       "\n",
       "       READY_TO_MOVE  RESALE                      ADDRESS  LONGITUDE  \\\n",
       "0                  1       1        Ksfc Layout,Bangalore  12.969910   \n",
       "1                  1       1    Vishweshwara Nagar,Mysore  12.274538   \n",
       "2                  1       1             Jigani,Bangalore  12.778033   \n",
       "3                  1       1  Sector-1 Vaishali,Ghaziabad  28.642300   \n",
       "5                  1       1         South Chittoor,Kochi  10.033280   \n",
       "...              ...     ...                          ...        ...   \n",
       "29445              1       1            Tilakwadi,Belgaum  15.866670   \n",
       "29446              1       1         Shamshabad Road,Agra  27.140626   \n",
       "29448              1       1            Ajmer Road,Jaipur  26.928785   \n",
       "29449              1       1       Sholinganallur,Chennai  12.900150   \n",
       "29450              1       1             Jagatpura,Jaipur  26.832353   \n",
       "\n",
       "        LATITUDE  TARGET(PRICE_IN_LACS)  \n",
       "0      77.597960                   55.0  \n",
       "1      76.644605                   51.0  \n",
       "2      77.632191                   43.0  \n",
       "3      77.344500                   62.5  \n",
       "5      76.282571                   42.0  \n",
       "...          ...                    ...  \n",
       "29445  74.500000                   40.0  \n",
       "29446  78.043277                   45.0  \n",
       "29448  75.828002                   27.1  \n",
       "29449  80.227910                   67.0  \n",
       "29450  75.841749                   27.8  \n",
       "\n",
       "[22726 rows x 12 columns]"
      ]
     },
     "execution_count": 4,
     "metadata": {},
     "output_type": "execute_result"
    }
   ],
   "source": [
    "# Calculate the first quartile (Q1) and third quartile (Q3) for the numerical attributes\n",
    "Q1 = df[numerical_attributes].quantile(0.25)\n",
    "Q3 = df[numerical_attributes].quantile(0.75)\n",
    "\n",
    "# Calculate the interquartile range (IQR)\n",
    "IQR = Q3 - Q1\n",
    "\n",
    "# Define the outlier detection threshold\n",
    "outlier_threshold = 1.5  # You can adjust this value based on your data and requirements\n",
    "\n",
    "# Identify outliers for each numerical attribute\n",
    "outliers_df = ((df[numerical_attributes] < (Q1 - outlier_threshold * IQR)) | (df[numerical_attributes] > (Q3 + outlier_threshold * IQR)))\n",
    "\n",
    "# Print the number of outliers in each column\n",
    "print(outliers_df.sum())\n",
    "\n",
    "# Get the indices of rows that contain outliers for any numerical attribute\n",
    "outlier_rows = outliers_df.any(axis=1)\n",
    "# Remove the rows with outliers from the original DataFrame\n",
    "df = df[~outlier_rows]\n",
    "df"
   ]
  },
  {
   "cell_type": "code",
   "execution_count": 5,
   "id": "5b9680fd",
   "metadata": {},
   "outputs": [],
   "source": [
    "def winsorize_column(df, column, lower_percentile, upper_percentile):\n",
    "    lower_bound = df[column].quantile(lower_percentile)\n",
    "    upper_bound = df[column].quantile(upper_percentile)\n",
    "    df[column] = df[column].clip(lower_bound, upper_bound)\n",
    "\n",
    "attributes = ['LATITUDE', 'TARGET(PRICE_IN_LACS)', 'SQUARE_FT']\n",
    "\n",
    "# Calculate the 1st and 99th percentiles for \"Latitude\" and \"Target(Price_In_LACS)\"\n",
    "percentiles = df[attributes[:2]].quantile([0.01, 0.95])\n",
    "\n",
    "# Apply winsorization to the first two columns\n",
    "for col in attributes[:2]:\n",
    "    winsorize_column(df, col, 0.01, 0.95)\n",
    "\n",
    "# Calculate the interquartile range (IQR) for the 'SQUARE_FT' attribute\n",
    "Q1 = df['SQUARE_FT'].quantile(0.25)\n",
    "Q3 = df['SQUARE_FT'].quantile(0.75)\n",
    "IQR = Q3 - Q1\n",
    "\n",
    "# Apply winsorization to the 'SQUARE_FT' column\n",
    "winsorize_column(df, 'SQUARE_FT', 0.05, 0.95)"
   ]
  },
  {
   "cell_type": "code",
   "execution_count": 6,
   "id": "68d32240",
   "metadata": {},
   "outputs": [
    {
     "data": {
      "image/png": "[encoded data removed]",
      "text/plain": [
       "<Figure size 864x576 with 6 Axes>"
      ]
     },
     "metadata": {
      "needs_background": "light"
     },
     "output_type": "display_data"
    }
   ],
   "source": [
    "numerical_attributes = ['BHK_NO.', 'SQUARE_FT', 'LONGITUDE', 'LATITUDE', 'TARGET(PRICE_IN_LACS)']\n",
    "# Calculate the number of rows and columns required for the grid\n",
    "num_attributes = len(numerical_attributes)\n",
    "num_rows = num_attributes // 2 + num_attributes % 2\n",
    "num_cols = 2 if num_attributes >= 2 else 1\n",
    "\n",
    "# Create subplots to put the box plots in the grid\n",
    "fig, axes = plt.subplots(nrows=num_rows, ncols=num_cols, figsize=(12, 8))\n",
    "\n",
    "# Flatten the axes array for easy iteration\n",
    "axes = axes.flatten()\n",
    "\n",
    "# Create a box plot for each numerical attribute\n",
    "for i, attr in enumerate(numerical_attributes):\n",
    "    axes[i].boxplot(df[attr], vert=False)\n",
    "    axes[i].set_title(f'Box Plot - {attr}', fontsize=12)\n",
    "    axes[i].set_xlabel(attr, fontsize=10)\n",
    "    axes[i].set_ylabel('Values', fontsize=10)\n",
    "    axes[i].grid(True)\n",
    "\n",
    "# Hide any unused subplots\n",
    "for j in range(num_attributes, num_rows * num_cols):\n",
    "    axes[j].axis('off')\n",
    "\n",
    "plt.tight_layout()\n",
    "plt.show()"
   ]
  },
  {
   "cell_type": "markdown",
   "id": "317b9cbf",
   "metadata": {},
   "source": [
    "# Data Transformation"
   ]
  },
  {
   "cell_type": "code",
   "execution_count": 7,
   "id": "06a6a9d9",
   "metadata": {},
   "outputs": [],
   "source": [
    "df.drop(['POSTED_BY', 'LONGITUDE', 'LATITUDE'], axis=1, inplace=True)"
   ]
  },
  {
   "cell_type": "code",
   "execution_count": 8,
   "id": "54565fc5",
   "metadata": {},
   "outputs": [],
   "source": [
    "# Applying the transformation\n",
    "df['ADDRESS'] = df['ADDRESS'].str.rsplit(',', 1).str[-1]"
   ]
  },
  {
   "cell_type": "code",
   "execution_count": 9,
   "id": "91b054dc",
   "metadata": {},
   "outputs": [],
   "source": [
    " # Keep only the rows where 'ADDRESS' is 'Bangalore' and drop other rows\n",
    "df = df[df['ADDRESS'].str.contains('Bangalore', case=False)]"
   ]
  },
  {
   "cell_type": "code",
   "execution_count": 10,
   "id": "5198fd71",
   "metadata": {
    "scrolled": false
   },
   "outputs": [
    {
     "data": {
      "text/html": [
       "<div>\n",
       "<style scoped>\n",
       "    .dataframe tbody tr th:only-of-type {\n",
       "        vertical-align: middle;\n",
       "    }\n",
       "\n",
       "    .dataframe tbody tr th {\n",
       "        vertical-align: top;\n",
       "    }\n",
       "\n",
       "    .dataframe thead th {\n",
       "        text-align: right;\n",
       "    }\n",
       "</style>\n",
       "<table border=\"1\" class=\"dataframe\">\n",
       "  <thead>\n",
       "    <tr style=\"text-align: right;\">\n",
       "      <th></th>\n",
       "      <th>UNDER_CONSTRUCTION</th>\n",
       "      <th>RERA</th>\n",
       "      <th>BHK_NO.</th>\n",
       "      <th>BHK_OR_RK</th>\n",
       "      <th>SQUARE_FT</th>\n",
       "      <th>READY_TO_MOVE</th>\n",
       "      <th>RESALE</th>\n",
       "      <th>ADDRESS</th>\n",
       "      <th>TARGET(PRICE_IN_LACS)</th>\n",
       "    </tr>\n",
       "  </thead>\n",
       "  <tbody>\n",
       "    <tr>\n",
       "      <th>0</th>\n",
       "      <td>0</td>\n",
       "      <td>0</td>\n",
       "      <td>2</td>\n",
       "      <td>BHK</td>\n",
       "      <td>1300.236407</td>\n",
       "      <td>1</td>\n",
       "      <td>1</td>\n",
       "      <td>Bangalore</td>\n",
       "      <td>55.0</td>\n",
       "    </tr>\n",
       "    <tr>\n",
       "      <th>2</th>\n",
       "      <td>0</td>\n",
       "      <td>0</td>\n",
       "      <td>2</td>\n",
       "      <td>BHK</td>\n",
       "      <td>933.159722</td>\n",
       "      <td>1</td>\n",
       "      <td>1</td>\n",
       "      <td>Bangalore</td>\n",
       "      <td>43.0</td>\n",
       "    </tr>\n",
       "    <tr>\n",
       "      <th>8</th>\n",
       "      <td>0</td>\n",
       "      <td>1</td>\n",
       "      <td>2</td>\n",
       "      <td>BHK</td>\n",
       "      <td>1040.000000</td>\n",
       "      <td>1</td>\n",
       "      <td>1</td>\n",
       "      <td>Bangalore</td>\n",
       "      <td>41.6</td>\n",
       "    </tr>\n",
       "    <tr>\n",
       "      <th>11</th>\n",
       "      <td>0</td>\n",
       "      <td>0</td>\n",
       "      <td>2</td>\n",
       "      <td>BHK</td>\n",
       "      <td>1333.010179</td>\n",
       "      <td>1</td>\n",
       "      <td>1</td>\n",
       "      <td>Bangalore</td>\n",
       "      <td>110.0</td>\n",
       "    </tr>\n",
       "    <tr>\n",
       "      <th>12</th>\n",
       "      <td>0</td>\n",
       "      <td>0</td>\n",
       "      <td>2</td>\n",
       "      <td>BHK</td>\n",
       "      <td>927.177902</td>\n",
       "      <td>1</td>\n",
       "      <td>1</td>\n",
       "      <td>Bangalore</td>\n",
       "      <td>48.0</td>\n",
       "    </tr>\n",
       "  </tbody>\n",
       "</table>\n",
       "</div>"
      ],
      "text/plain": [
       "    UNDER_CONSTRUCTION  RERA  BHK_NO. BHK_OR_RK    SQUARE_FT  READY_TO_MOVE  \\\n",
       "0                    0     0        2       BHK  1300.236407              1   \n",
       "2                    0     0        2       BHK   933.159722              1   \n",
       "8                    0     1        2       BHK  1040.000000              1   \n",
       "11                   0     0        2       BHK  1333.010179              1   \n",
       "12                   0     0        2       BHK   927.177902              1   \n",
       "\n",
       "    RESALE    ADDRESS  TARGET(PRICE_IN_LACS)  \n",
       "0        1  Bangalore                   55.0  \n",
       "2        1  Bangalore                   43.0  \n",
       "8        1  Bangalore                   41.6  \n",
       "11       1  Bangalore                  110.0  \n",
       "12       1  Bangalore                   48.0  "
      ]
     },
     "execution_count": 10,
     "metadata": {},
     "output_type": "execute_result"
    }
   ],
   "source": [
    "df.head()"
   ]
  },
  {
   "cell_type": "code",
   "execution_count": 11,
   "id": "12d4cec8",
   "metadata": {},
   "outputs": [
    {
     "name": "stderr",
     "output_type": "stream",
     "text": [
      "C:\\Users\\kayde\\AppData\\Local\\Temp\\ipykernel_28696\\2135799550.py:2: SettingWithCopyWarning: \n",
      "A value is trying to be set on a copy of a slice from a DataFrame\n",
      "\n",
      "See the caveats in the documentation: https://pandas.pydata.org/pandas-docs/stable/user_guide/indexing.html#returning-a-view-versus-a-copy\n",
      "  df.drop(columns='ADDRESS', inplace=True)\n"
     ]
    }
   ],
   "source": [
    "# Drop the \"ADDRESS\" column from the DataFrame\n",
    "df.drop(columns='ADDRESS', inplace=True)"
   ]
  },
  {
   "cell_type": "code",
   "execution_count": 12,
   "id": "62661a25",
   "metadata": {},
   "outputs": [],
   "source": [
    "# Perform One-Hot Encoding\n",
    "df = pd.get_dummies(df, columns=['BHK_OR_RK'])"
   ]
  },
  {
   "cell_type": "markdown",
   "id": "1fe3e31a",
   "metadata": {},
   "source": [
    "# Visualisations"
   ]
  },
  {
   "cell_type": "markdown",
   "id": "ea20c8f3",
   "metadata": {},
   "source": [
    "## Histogram for Distribution of House Prices"
   ]
  },
  {
   "cell_type": "code",
   "execution_count": 13,
   "id": "481b3f2a",
   "metadata": {},
   "outputs": [
    {
     "data": {
      "image/png": "[encoded data removed]",
      "text/plain": [
       "<Figure size 576x432 with 1 Axes>"
      ]
     },
     "metadata": {
      "needs_background": "light"
     },
     "output_type": "display_data"
    }
   ],
   "source": [
    "# 1. Histogram of Target Variable\n",
    "plt.figure(figsize=(8, 6))\n",
    "sns.histplot(df['TARGET(PRICE_IN_LACS)'], kde=True)\n",
    "plt.xlabel('Price in Lakhs')\n",
    "plt.title('Distribution of House Prices')\n",
    "plt.show()"
   ]
  },
  {
   "cell_type": "markdown",
   "id": "7527b627",
   "metadata": {},
   "source": [
    "## Bar Plot for House Price by No. of Rooms"
   ]
  },
  {
   "cell_type": "code",
   "execution_count": 14,
   "id": "818da91d",
   "metadata": {
    "scrolled": true
   },
   "outputs": [
    {
     "data": {
      "image/png": "[encoded data removed]",
      "text/plain": [
       "<Figure size 576x432 with 1 Axes>"
      ]
     },
     "metadata": {
      "needs_background": "light"
     },
     "output_type": "display_data"
    }
   ],
   "source": [
    "# 4. Bar Plot of Price by Number of Rooms (BHK_NO)\n",
    "plt.figure(figsize=(8, 6))\n",
    "sns.barplot(x='BHK_NO.', y='TARGET(PRICE_IN_LACS)', data=df)\n",
    "plt.xlabel('Number of Rooms (BHK_NO)')\n",
    "plt.ylabel('Price in Lakhs')\n",
    "plt.title('Price by Number of Rooms')\n",
    "plt.show()"
   ]
  },
  {
   "cell_type": "markdown",
   "id": "f2461c78",
   "metadata": {},
   "source": [
    "## Box Plot of Price by Property Type"
   ]
  },
  {
   "cell_type": "code",
   "execution_count": 15,
   "id": "8461f007",
   "metadata": {},
   "outputs": [
    {
     "data": {
      "image/png": "[encoded data removed]",
      "text/plain": [
       "<Figure size 576x432 with 1 Axes>"
      ]
     },
     "metadata": {
      "needs_background": "light"
     },
     "output_type": "display_data"
    }
   ],
   "source": [
    "plt.figure(figsize=(8, 6))\n",
    "sns.boxplot(x='BHK_OR_RK_BHK', y='TARGET(PRICE_IN_LACS)', data=df)\n",
    "plt.xlabel('Property Type')\n",
    "plt.ylabel('Price in Lakhs')\n",
    "plt.title('Price by Property Type')\n",
    "plt.show()"
   ]
  },
  {
   "cell_type": "code",
   "execution_count": 16,
   "id": "ef59f647",
   "metadata": {},
   "outputs": [
    {
     "data": {
      "image/png": "[encoded data removed]",
      "text/plain": [
       "<Figure size 576x432 with 1 Axes>"
      ]
     },
     "metadata": {
      "needs_background": "light"
     },
     "output_type": "display_data"
    }
   ],
   "source": [
    "plt.figure(figsize=(8, 6))\n",
    "sns.barplot(x='UNDER_CONSTRUCTION', y='TARGET(PRICE_IN_LACS)', data=df)\n",
    "plt.xlabel('Under Construction')\n",
    "plt.ylabel('Price in Lakhs')\n",
    "plt.title('Price by Whether Property is Under Construction')\n",
    "plt.show()"
   ]
  },
  {
   "cell_type": "code",
   "execution_count": 17,
   "id": "6334934a",
   "metadata": {},
   "outputs": [
    {
     "data": {
      "image/png": "[encoded data removed]",
      "text/plain": [
       "<Figure size 576x432 with 1 Axes>"
      ]
     },
     "metadata": {
      "needs_background": "light"
     },
     "output_type": "display_data"
    }
   ],
   "source": [
    "plt.figure(figsize=(8, 6))\n",
    "sns.boxplot(x='RESALE', y='TARGET(PRICE_IN_LACS)', data=df)\n",
    "plt.title('Price vs. Resale Status')\n",
    "plt.xlabel('Resale Status')\n",
    "plt.ylabel('Price (in lakhs)')\n",
    "plt.show()"
   ]
  },
  {
   "cell_type": "code",
   "execution_count": 18,
   "id": "df654df4",
   "metadata": {},
   "outputs": [
    {
     "data": {
      "image/png": "[encoded data removed]",
      "text/plain": [
       "<Figure size 864x576 with 2 Axes>"
      ]
     },
     "metadata": {
      "needs_background": "light"
     },
     "output_type": "display_data"
    }
   ],
   "source": [
    "correlation_matrix = df.corr()\n",
    "plt.figure(figsize=(12, 8))\n",
    "sns.heatmap(correlation_matrix, annot=True, cmap='coolwarm', fmt=\".2f\")\n",
    "plt.title('Correlation Matrix Heatmap')\n",
    "plt.show()"
   ]
  },
  {
   "cell_type": "markdown",
   "id": "f6efc731",
   "metadata": {},
   "source": [
    "# Data Modelling"
   ]
  },
  {
   "cell_type": "markdown",
   "id": "18cc5aa1",
   "metadata": {},
   "source": [
    "## LightGBM"
   ]
  },
  {
   "cell_type": "code",
   "execution_count": 19,
   "id": "155c7edd",
   "metadata": {
    "scrolled": false
   },
   "outputs": [
    {
     "data": {
      "text/html": [
       "<div>\n",
       "<style scoped>\n",
       "    .dataframe tbody tr th:only-of-type {\n",
       "        vertical-align: middle;\n",
       "    }\n",
       "\n",
       "    .dataframe tbody tr th {\n",
       "        vertical-align: top;\n",
       "    }\n",
       "\n",
       "    .dataframe thead th {\n",
       "        text-align: right;\n",
       "    }\n",
       "</style>\n",
       "<table border=\"1\" class=\"dataframe\">\n",
       "  <thead>\n",
       "    <tr style=\"text-align: right;\">\n",
       "      <th></th>\n",
       "      <th>UNDER_CONSTRUCTION</th>\n",
       "      <th>RERA</th>\n",
       "      <th>BHK_NO.</th>\n",
       "      <th>SQUARE_FT</th>\n",
       "      <th>READY_TO_MOVE</th>\n",
       "      <th>RESALE</th>\n",
       "      <th>TARGET(PRICE_IN_LACS)</th>\n",
       "      <th>BHK_OR_RK_BHK</th>\n",
       "    </tr>\n",
       "  </thead>\n",
       "  <tbody>\n",
       "    <tr>\n",
       "      <th>0</th>\n",
       "      <td>0</td>\n",
       "      <td>0</td>\n",
       "      <td>2</td>\n",
       "      <td>1300.236407</td>\n",
       "      <td>1</td>\n",
       "      <td>1</td>\n",
       "      <td>55.0</td>\n",
       "      <td>1</td>\n",
       "    </tr>\n",
       "    <tr>\n",
       "      <th>2</th>\n",
       "      <td>0</td>\n",
       "      <td>0</td>\n",
       "      <td>2</td>\n",
       "      <td>933.159722</td>\n",
       "      <td>1</td>\n",
       "      <td>1</td>\n",
       "      <td>43.0</td>\n",
       "      <td>1</td>\n",
       "    </tr>\n",
       "    <tr>\n",
       "      <th>8</th>\n",
       "      <td>0</td>\n",
       "      <td>1</td>\n",
       "      <td>2</td>\n",
       "      <td>1040.000000</td>\n",
       "      <td>1</td>\n",
       "      <td>1</td>\n",
       "      <td>41.6</td>\n",
       "      <td>1</td>\n",
       "    </tr>\n",
       "    <tr>\n",
       "      <th>11</th>\n",
       "      <td>0</td>\n",
       "      <td>0</td>\n",
       "      <td>2</td>\n",
       "      <td>1333.010179</td>\n",
       "      <td>1</td>\n",
       "      <td>1</td>\n",
       "      <td>110.0</td>\n",
       "      <td>1</td>\n",
       "    </tr>\n",
       "    <tr>\n",
       "      <th>12</th>\n",
       "      <td>0</td>\n",
       "      <td>0</td>\n",
       "      <td>2</td>\n",
       "      <td>927.177902</td>\n",
       "      <td>1</td>\n",
       "      <td>1</td>\n",
       "      <td>48.0</td>\n",
       "      <td>1</td>\n",
       "    </tr>\n",
       "    <tr>\n",
       "      <th>...</th>\n",
       "      <td>...</td>\n",
       "      <td>...</td>\n",
       "      <td>...</td>\n",
       "      <td>...</td>\n",
       "      <td>...</td>\n",
       "      <td>...</td>\n",
       "      <td>...</td>\n",
       "      <td>...</td>\n",
       "    </tr>\n",
       "    <tr>\n",
       "      <th>29404</th>\n",
       "      <td>0</td>\n",
       "      <td>1</td>\n",
       "      <td>2</td>\n",
       "      <td>942.269409</td>\n",
       "      <td>1</td>\n",
       "      <td>1</td>\n",
       "      <td>28.4</td>\n",
       "      <td>1</td>\n",
       "    </tr>\n",
       "    <tr>\n",
       "      <th>29408</th>\n",
       "      <td>0</td>\n",
       "      <td>0</td>\n",
       "      <td>2</td>\n",
       "      <td>1105.845182</td>\n",
       "      <td>1</td>\n",
       "      <td>1</td>\n",
       "      <td>42.0</td>\n",
       "      <td>1</td>\n",
       "    </tr>\n",
       "    <tr>\n",
       "      <th>29421</th>\n",
       "      <td>0</td>\n",
       "      <td>0</td>\n",
       "      <td>2</td>\n",
       "      <td>1409.064497</td>\n",
       "      <td>1</td>\n",
       "      <td>1</td>\n",
       "      <td>97.0</td>\n",
       "      <td>1</td>\n",
       "    </tr>\n",
       "    <tr>\n",
       "      <th>29433</th>\n",
       "      <td>0</td>\n",
       "      <td>0</td>\n",
       "      <td>2</td>\n",
       "      <td>1195.028681</td>\n",
       "      <td>1</td>\n",
       "      <td>1</td>\n",
       "      <td>50.0</td>\n",
       "      <td>1</td>\n",
       "    </tr>\n",
       "    <tr>\n",
       "      <th>29436</th>\n",
       "      <td>1</td>\n",
       "      <td>1</td>\n",
       "      <td>2</td>\n",
       "      <td>1175.132676</td>\n",
       "      <td>0</td>\n",
       "      <td>1</td>\n",
       "      <td>62.0</td>\n",
       "      <td>1</td>\n",
       "    </tr>\n",
       "  </tbody>\n",
       "</table>\n",
       "<p>3658 rows × 8 columns</p>\n",
       "</div>"
      ],
      "text/plain": [
       "       UNDER_CONSTRUCTION  RERA  BHK_NO.    SQUARE_FT  READY_TO_MOVE  RESALE  \\\n",
       "0                       0     0        2  1300.236407              1       1   \n",
       "2                       0     0        2   933.159722              1       1   \n",
       "8                       0     1        2  1040.000000              1       1   \n",
       "11                      0     0        2  1333.010179              1       1   \n",
       "12                      0     0        2   927.177902              1       1   \n",
       "...                   ...   ...      ...          ...            ...     ...   \n",
       "29404                   0     1        2   942.269409              1       1   \n",
       "29408                   0     0        2  1105.845182              1       1   \n",
       "29421                   0     0        2  1409.064497              1       1   \n",
       "29433                   0     0        2  1195.028681              1       1   \n",
       "29436                   1     1        2  1175.132676              0       1   \n",
       "\n",
       "       TARGET(PRICE_IN_LACS)  BHK_OR_RK_BHK  \n",
       "0                       55.0              1  \n",
       "2                       43.0              1  \n",
       "8                       41.6              1  \n",
       "11                     110.0              1  \n",
       "12                      48.0              1  \n",
       "...                      ...            ...  \n",
       "29404                   28.4              1  \n",
       "29408                   42.0              1  \n",
       "29421                   97.0              1  \n",
       "29433                   50.0              1  \n",
       "29436                   62.0              1  \n",
       "\n",
       "[3658 rows x 8 columns]"
      ]
     },
     "execution_count": 19,
     "metadata": {},
     "output_type": "execute_result"
    }
   ],
   "source": [
    "df"
   ]
  },
  {
   "cell_type": "code",
   "execution_count": null,
   "id": "838d67ec",
   "metadata": {},
   "outputs": [
    {
     "name": "stdout",
     "output_type": "stream",
     "text": [
      "Fitting 5 folds for each of 108 candidates, totalling 540 fits\n"
     ]
    }
   ],
   "source": [
    "# Assume df contains the entire dataset, including 'TARGET(PRICE_IN_LACS)', 'SQUARE_FT', and 'BHK_NO.'\n",
    "\n",
    "# Create a copy of the DataFrame with all features except the target variable\n",
    "features_df = df.drop(columns=['TARGET(PRICE_IN_LACS)'])\n",
    "\n",
    "# Split the data into features (X) and target variable (y)\n",
    "X = features_df\n",
    "y = df['TARGET(PRICE_IN_LACS)']\n",
    "\n",
    "# Create a MinMaxScaler object\n",
    "scaler = MinMaxScaler()\n",
    "\n",
    "# Split the data into training and testing sets\n",
    "X_train, X_test, y_train, y_test = train_test_split(X, y, test_size=0.3, random_state=0)\n",
    "\n",
    "# Fit and transform the scaler on the data (normalizing in place)\n",
    "X_train = scaler.fit_transform(X_train)\n",
    "\n",
    "#Fit and transform the scaler on the data (normalizing in place)\n",
    "X_test = scaler.fit_transform(X_test)\n",
    "\n",
    "# Define the LightGBM model\n",
    "LGBM = LGBMRegressor()\n",
    "\n",
    "# Define hyperparameters for grid search\n",
    "param_grid = {\n",
    "    'n_estimators': [500, 1000, 3000],\n",
    "    'max_depth': [4, 6],\n",
    "    'min_child_samples': [3, 9, 17],\n",
    "    'learning_rate': [0.1, 0.05, 0.02],\n",
    "    'objective': ['regression_l2', 'huber'],\n",
    "    'boosting_type': ['gbdt']\n",
    "}\n",
    "\n",
    "# Define the grid search we want to run. Run it with four cpus in parallel.\n",
    "gs_cv = GridSearchCV(LGBM, param_grid, n_jobs=4, verbose=100)\n",
    "\n",
    "# Run the grid search on the training data\n",
    "gs_cv.fit(X_train, y_train)\n",
    "\n",
    "# Print the best hyperparameters\n",
    "print(gs_cv.best_params_)"
   ]
  },
  {
   "cell_type": "code",
   "execution_count": null,
   "id": "82eb6e44",
   "metadata": {},
   "outputs": [],
   "source": [
    "# Find the error rate on the training set using the best parameters\n",
    "MAE = mean_absolute_error(y_train, gs_cv.predict(X_train))\n",
    "print(\"Training Set Mean Absolute Error: %.4f\" % MAE)\n",
    "\n",
    "# Find the error rate on the test set using the best parameters\n",
    "MAE = mean_absolute_error(y_test, gs_cv.predict(X_test))\n",
    "print(\"Test Set Mean Absolute Error: %.4f\" % MAE)\n",
    "\n",
    "# Find the error rate on the training set using the best parameters\n",
    "mse = mean_squared_error(y_train, gs_cv.predict(X_train))\n",
    "print(\"Training Set Mean Squared Error: %.4f\" % mse)\n",
    "\n",
    "# Find the error rate on the test set using the best parameters\n",
    "MSE = mean_squared_error(y_test, gs_cv.predict(X_test))\n",
    "print(\"Test Set Mean Squared Error: %.4f\" % MSE)\n",
    "\n",
    "# Find the score on the training set using the best parameters\n",
    "r2 = r2_score(y_train, gs_cv.predict(X_train))\n",
    "print(\"R-Squared Train Score: %.4f\" % r2)\n",
    "\n",
    "# Find the error rate on the test set using the best parameters\n",
    "r2 = r2_score(y_test, gs_cv.predict(X_test))\n",
    "print(\"R-Squared Test Score: %.4f\" % r2)"
   ]
  },
  {
   "cell_type": "markdown",
   "id": "fbc62c4e",
   "metadata": {},
   "source": [
    "## Random Forest Regressor"
   ]
  },
  {
   "cell_type": "code",
   "execution_count": 26,
   "id": "9f74e715",
   "metadata": {},
   "outputs": [],
   "source": [
    "# Initialize the Random Forest Regressor\n",
    "rf_model = RandomForestRegressor()\n",
    "\n",
    "# Define hyperparameters to tune\n",
    "param_grid = {\n",
    "    'n_estimators': [100, 200, 300],          # Number of trees in the forest\n",
    "    'min_samples_split': [2, 5, 10],          # Minimum number of samples required to split an internal node\n",
    "    'min_samples_leaf': [1, 2, 4]             # Minimum number of samples required to be at a leaf node\n",
    "}"
   ]
  },
  {
   "cell_type": "code",
   "execution_count": 27,
   "id": "d73794d4",
   "metadata": {},
   "outputs": [
    {
     "name": "stdout",
     "output_type": "stream",
     "text": [
      "Fitting 5 folds for each of 27 candidates, totalling 135 fits\n",
      "{'min_samples_leaf': 4, 'min_samples_split': 10, 'n_estimators': 100}\n"
     ]
    }
   ],
   "source": [
    "# Define the grid search we want to run. Run it with four cpus in parallel.\n",
    "gs_cv = GridSearchCV(rf_model, param_grid, n_jobs=4, verbose=100)\n",
    "# Run the grid search - on only the training data!\n",
    "gs_cv.fit(X_train, y_train)\n",
    "print(gs_cv.best_params_)"
   ]
  },
  {
   "cell_type": "code",
   "execution_count": 28,
   "id": "25ef5e46",
   "metadata": {},
   "outputs": [
    {
     "name": "stdout",
     "output_type": "stream",
     "text": [
      "Training Set Mean Absolute Error: 12.4404\n",
      "Test Set Mean Absolute Error: 15.0261\n",
      "Training Set Mean Squared Error: 287.7501\n",
      "Test Set Mean Squared Error: 384.4308\n",
      "R-Squared Train Score: 0.7455\n",
      "R-Squared Test Score: 0.6483\n"
     ]
    }
   ],
   "source": [
    "# Find the error rate on the training set using the best parameters\n",
    "MAE = mean_absolute_error(y_train, gs_cv.predict(X_train))\n",
    "print(\"Training Set Mean Absolute Error: %.4f\" % MAE)\n",
    "\n",
    "# Find the error rate on the test set using the best parameters\n",
    "MAE = mean_absolute_error(y_test, gs_cv.predict(X_test))\n",
    "print(\"Test Set Mean Absolute Error: %.4f\" % MAE)\n",
    "\n",
    "# Find the error rate on the training set using the best parameters\n",
    "mse = mean_squared_error(y_train, gs_cv.predict(X_train))\n",
    "print(\"Training Set Mean Squared Error: %.4f\" % mse)\n",
    "\n",
    "# Find the error rate on the test set using the best parameters\n",
    "MSE = mean_squared_error(y_test, gs_cv.predict(X_test))\n",
    "print(\"Test Set Mean Squared Error: %.4f\" % MSE)\n",
    "\n",
    "# Find the score on the training set using the best parameters\n",
    "r2 = r2_score(y_train, gs_cv.predict(X_train))\n",
    "print(\"R-Squared Train Score: %.4f\" % r2)\n",
    "\n",
    "# Find the error rate on the test set using the best parameters\n",
    "r2 = r2_score(y_test, gs_cv.predict(X_test))\n",
    "print(\"R-Squared Test Score: %.4f\" % r2)"
   ]
  },
  {
   "cell_type": "code",
   "execution_count": 29,
   "id": "13fc1ac2",
   "metadata": {},
   "outputs": [
    {
     "name": "stdout",
     "output_type": "stream",
     "text": [
      "Training Set Mean Absolute Error: 15.8978\n",
      "Test Set Mean Absolute Error: 15.5436\n",
      "Training Set Mean Squared Error: 429.3024\n",
      "Test Set Mean Squared Error: 391.6878\n",
      "R-Squared Train Score: 0.6204\n",
      "R-Squared Test Score: 0.6416\n"
     ]
    }
   ],
   "source": [
    "lm = LinearRegression()\n",
    "lm.fit(X_train, y_train)\n",
    "# Find the error rate on the training set using the best parameters\n",
    "MAE = mean_absolute_error(y_train, lm.predict(X_train))\n",
    "print(\"Training Set Mean Absolute Error: %.4f\" % MAE)\n",
    "\n",
    "# Find the error rate on the test set using the best parameters\n",
    "MAE = mean_absolute_error(y_test, lm.predict(X_test))\n",
    "print(\"Test Set Mean Absolute Error: %.4f\" % MAE)\n",
    "\n",
    "# Find the error rate on the training set using the best parameters\n",
    "mse = mean_squared_error(y_train, lm.predict(X_train))\n",
    "print(\"Training Set Mean Squared Error: %.4f\" % mse)\n",
    "\n",
    "# Find the error rate on the test set using the best parameters\n",
    "mse = mean_squared_error(y_test, lm.predict(X_test))\n",
    "print(\"Test Set Mean Squared Error: %.4f\" % mse)\n",
    "\n",
    "# Find the score on the training set using the best parameters\n",
    "r2 = r2_score(y_train, lm.predict(X_train))\n",
    "print(\"R-Squared Train Score: %.4f\" % r2)\n",
    "\n",
    "# Find the error rate on the test set using the best parameters\n",
    "r2 = r2_score(y_test, lm.predict(X_test))\n",
    "print(\"R-Squared Test Score: %.4f\" % r2)"
   ]
  },
  {
   "cell_type": "code",
   "execution_count": null,
   "id": "c76f6d9a",
   "metadata": {},
   "outputs": [],
   "source": [
    "# Save the trained model to a file\n",
    "with open('trained_model.pkl', 'wb') as file:\n",
    "    pickle.dump(gs_cv.best_estimator_, file)\n"
   ]
  },
  {
   "cell_type": "code",
   "execution_count": null,
   "id": "ecbaef49",
   "metadata": {},
   "outputs": [],
   "source": []
  }
 ],
 "metadata": {
  "kernelspec": {
   "display_name": "Python 3 (ipykernel)",
   "language": "python",
   "name": "python3"
  },
  "language_info": {
   "codemirror_mode": {
    "name": "ipython",
    "version": 3
   },
   "file_extension": ".py",
   "mimetype": "text/x-python",
   "name": "python",
   "nbconvert_exporter": "python",
   "pygments_lexer": "ipython3",
   "version": "3.9.12"
  }
 },
 "nbformat": 4,
 "nbformat_minor": 5
}
